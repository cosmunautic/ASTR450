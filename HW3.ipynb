{
 "cells": [
  {
   "cell_type": "code",
   "execution_count": null,
   "metadata": {},
   "outputs": [],
   "source": [
    "from numpy import *\n",
    "import numpy as np\n",
    "%config InlineBackend.rc = {}\n",
    "import matplotlib\n",
    "import matplotlib.pyplot as plt\n",
    "import matplotlib.cm as cm\n",
    "%matplotlib inline\n",
    "from astropy.io import fits\n",
    "from astropy.nddata import Cutout2D\n",
    "import scipy\n",
    "from scipy import stats\n",
    "from scipy.optimize import curve_fit"
   ]
  },
  {
   "cell_type": "code",
   "execution_count": null,
   "metadata": {},
   "outputs": [],
   "source": [
    "bb_list = ['hw3_fits/bright-bb650-5s-'+n+'.fits' for n in ['1','2','3']]\n",
    "bias_list = ['hw3_fits/bias-'+n+'.fits' for n in ['1','2','3']]\n",
    "\n",
    "bb_concat = []\n",
    "for image in bb_list:\n",
    "    bb_concat.append(fits.getdata(image))\n",
    "    \n",
    "bias_concat = []\n",
    "for image in bias_list:\n",
    "    bias_concat.append(fits.getdata(image))\n",
    "\n",
    "blackbody_stacked = np.sum(bb_concat, axis=0)\n",
    "bias_stacked = np.sum(bias_concat, axis=0)\n",
    "image_data = blackbody_stacked-bias_stacked"
   ]
  },
  {
   "cell_type": "code",
   "execution_count": null,
   "metadata": {},
   "outputs": [],
   "source": [
    "cutout = Cutout2D(image_data, (501.04,392.04),(90,90))\n",
    "cropped = cutout.data\n",
    "print('Mean:', np.mean(cutout.data)/3)\n",
    "print('Stdev:', np.std(cutout.data))"
   ]
  },
  {
   "cell_type": "markdown",
   "metadata": {},
   "source": [
    "To determine read noise in ADU:\n",
    "Subtract two bias frames, find standard deviation then divide by square root of two"
   ]
  },
  {
   "cell_type": "code",
   "execution_count": null,
   "metadata": {},
   "outputs": [],
   "source": [
    "bias1 = fits.getdata('hw3_fits/bias-2.fits')\n",
    "bias2 = fits.getdata('hw3_fits/bias-3.fits')\n",
    "bias_diff = bias1-bias2\n",
    "cutout = Cutout2D(bias_diff, (501.04,392.04),(90,90))\n",
    "bias_diff_c = cutout.data\n",
    "diffh = reshape(bias_diff_c, 8100)\n",
    "\n",
    "print('When entire sample is considered, read noise is:',np.std(bias_diff_c)/sqrt(2))\n",
    "\"\"\"\n",
    "I found that about half of the values were low integer values, \n",
    "and the other half was >65000, I'm not sure what defect would cause this\n",
    "but I assumed it was a systematic error that could be removed\n",
    "\"\"\"\n",
    "print(sort(diffh))\n",
    "print(sort(diffh)[4300:4400])\n",
    "i = np.where(diffh > 65000)\n",
    "diffh[i] -= 65500\n",
    "s = sort(diffh)\n",
    "image_hist = plt.hist(diffh.flatten(), 500)\n",
    "\n",
    "std_bias = np.std(s)\n",
    "readnoise = std_bias/sqrt(2)\n",
    "print(readnoise)\n",
    "\n",
    "\"\"\"\n",
    "Alternatively, splitting the array into two parts\n",
    "\"\"\"\n",
    "bias_l = []\n",
    "bias_g = []\n",
    "i = np.where(bias_diff_c > 65000)\n",
    "bias_g.extend(bias_diff_c[i])\n",
    "k = np.where(bias_diff_c < 65000)\n",
    "bias_l.extend(bias_diff_c[k])\n",
    "\n",
    "readnoise_l=np.std(bias_l)/sqrt(2)\n",
    "readnoise_g=np.std(bias_g)/sqrt(2)\n",
    "print(readnoise_l,readnoise_g)"
   ]
  },
  {
   "cell_type": "markdown",
   "metadata": {},
   "source": [
    "Calculating dark current at different temperatures, code refactored from code developed for an astronomy lab at University of Iowa (description - http://homepage.physics.uiowa.edu/~pkaaret/2013f_29c137/Lab03_noise.html, code - http://homepage.physics.uiowa.edu/~pkaaret/2013f_29c137/darktime.py) "
   ]
  },
  {
   "cell_type": "code",
   "execution_count": null,
   "metadata": {
    "scrolled": false
   },
   "outputs": [],
   "source": [
    "cutout_bias = Cutout2D(bias_stacked, (501.04,392.04),(100,100))\n",
    "bias = cutout_bias.data\n",
    "#bias = bias_stacked\n",
    "\n",
    "\n",
    "# array of temp\n",
    "temp = array([0.0,-10.0,-23.5,10.0,20.0])\n",
    "temp_string = ['-00.0C','-10.0C','-23.5C','p10.0C','p20.0C']\n",
    "# list of dark files\n",
    "darkfile = ['hw3_fits/dark100'+t+'.fits' for t in temp_string]\n",
    "\n",
    "\n",
    "# arrays to hold results\n",
    "c_mean = 0.0*temp\n",
    "c_median = 0.0*temp\n",
    "c_rms = 0.0*temp\n",
    "\n",
    "# wait after each set of plots\n",
    "plt.ioff()\n",
    "colmap = plt.get_cmap('gray') # load gray colormap\n",
    "\n",
    "# process the files\n",
    "for i in range(len(darkfile)):\n",
    "  # read in the file\n",
    "  image_data = fits.getdata(darkfile[i])\n",
    "  cutout = Cutout2D(image_data, (501.04,392.04),(100,100))\n",
    "  h = cutout.data \n",
    "  #h = image_data\n",
    "  print('Read ', darkfile[i])\n",
    "  # copy the image data into a numpy (numerical python) array\n",
    "  img = h\n",
    "  # find the difference fromthe bias frames\n",
    "  diff = img - bias\n",
    "  # diff is a 2-d array, need to change to 1-d to make a histogram\n",
    "  nx, ny = diff.shape # find the size of the array\n",
    "  diffh = reshape(diff, nx*ny) # change the shape to be 1d\n",
    "  smin = int(len(diffh)*0.03)\n",
    "  smax = int(len(diffh)-smin)\n",
    "  s = sort(diffh)[smin:smax] \n",
    "  print('len',len(diffh))\n",
    "  \n",
    "  vmin = np.min(s)\n",
    "  vmax = np.max(s)\n",
    "  print('bounds = ', vmin, vmax)\n",
    "  # one figure with two plots\n",
    "  plt.figure(1)\n",
    "  # plot the first image\n",
    "  plt.subplot(121)\n",
    "  plt.imshow(diff, cmap=colmap, vmin=vmin, vmax=vmax) # plot image using gray colorbar\n",
    "  # plot the second image\n",
    "  plt.subplot(122)\n",
    "  # plot a histogram of the image values\n",
    "  ht = plt.hist(diffh, bins=vmax-vmin, range=[vmin,vmax], histtype='stepfilled', color='k')\n",
    "  nc = max(ht[0]) # maximum value in plotted histogram\n",
    "  # select only values within ranges\n",
    "  q = where((diffh >= vmin) & (diffh <= vmax))\n",
    "  diffhcut = diffh[q]\n",
    "  # find statistics\n",
    "  c_mean[i] = mean(diffhcut)\n",
    "  c_median[i] = median(diffhcut)\n",
    "  c_rms[i] = std(diffhcut)\n",
    "  print('mean, median, rms = ', c_mean[i], c_median[i], c_rms[i])\n",
    "  plt.plot([c_mean[i], c_mean[i]], [0, nc], '-g')\n",
    "  plt.plot([c_median[i], c_median[i]], [0, nc], '--g')\n",
    "  plt.show() # display the plots\n",
    "  \n",
    "\n",
    "# plot median versus time\n",
    "m = c_mean\n",
    "#m = c_median\n",
    "plt.figure(2)\n",
    "plt.xlabel('Temp (c)')\n",
    "plt.ylabel('Mean Counts')\n",
    "#plt.ylabel('Median Counts')\n",
    "plt.plot(temp, m, 'd')\n",
    "scipy.optimize.curve_fit\n",
    "# do a linear fit to the data\n",
    "slope, intercept, r_value, p_value, std_err = stats.linregress(temp, m)\n",
    "print('slope = ', slope)\n",
    "print('intercept = ', intercept)\n",
    "print('correlation coefficient r =', r_value)\n",
    "# plot the fit\n",
    "plt.plot(temp, intercept + temp*slope, '--r')\n",
    "plt.show()\n",
    "\n"
   ]
  },
  {
   "cell_type": "code",
   "execution_count": null,
   "metadata": {},
   "outputs": [],
   "source": [
    "temp=[10,20]\n",
    "m=[4330.7,13302.3]\n",
    "# do a linear fit to the data\n",
    "slope, intercept, r_value, p_value, std_err = stats.linregress(temp, m)\n",
    "print('slope = ', slope)\n",
    "print('intercept = ', intercept)\n",
    "print('correlation coefficient r =', r_value)\n",
    "\n"
   ]
  },
  {
   "cell_type": "code",
   "execution_count": null,
   "metadata": {},
   "outputs": [],
   "source": [
    "noise = sqrt(36140+8.3**2+45**2)\n",
    "g = 34815/noise**2\n",
    "print(noise,g)"
   ]
  },
  {
   "cell_type": "code",
   "execution_count": null,
   "metadata": {
    "collapsed": true
   },
   "outputs": [],
   "source": []
  }
 ],
 "metadata": {
  "kernelspec": {
   "display_name": "Python 3",
   "language": "python",
   "name": "python3"
  },
  "language_info": {
   "codemirror_mode": {
    "name": "ipython",
    "version": 3
   },
   "file_extension": ".py",
   "mimetype": "text/x-python",
   "name": "python",
   "nbconvert_exporter": "python",
   "pygments_lexer": "ipython3",
   "version": "3.6.3"
  }
 },
 "nbformat": 4,
 "nbformat_minor": 2
}
